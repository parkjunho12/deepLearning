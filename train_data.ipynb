{
 "cells": [
  {
   "cell_type": "code",
   "execution_count": 17,
   "metadata": {},
   "outputs": [],
   "source": [
    "# -*- coding: utf-8 -*-\n",
    "file_path = \"./datas/hashcode_classification2020_train.csv\"\n",
    "import re\n",
    "from tensorflow.keras import models\n",
    "from tensorflow.keras import layers\n",
    "from tensorflow.keras import optimizers\n",
    "from tensorflow.keras import losses\n",
    "from tensorflow.keras import metrics\n",
    "import numpy as np\n",
    "from konlpy.tag import Okt\n",
    "import json\n",
    "import os\n",
    "from pprint import pprint\n",
    "import nltk\n",
    "import keras\n",
    "import pandas as pd"
   ]
  },
  {
   "cell_type": "code",
   "execution_count": 18,
   "metadata": {},
   "outputs": [],
   "source": [
    "def read_data(file_path):\n",
    "    datas = pd.read_csv(file_path, engine='python', names=['title', 'content', 'label'], encoding='utf-8')\n",
    "    title = datas.loc[1:,'title'].values\n",
    "    content = datas.loc[1:,'content'].values\n",
    "    label = datas.loc[1:,'label'].values\n",
    "    result_data = []\n",
    "    for idx, title_data in enumerate(title):\n",
    "        tmp_data = [title_data, content[idx], label[idx]]\n",
    "        result_data.append(tmp_data)\n",
    "    return result_data\n",
    "train_data = read_data(file_path)\n"
   ]
  },
  {
   "cell_type": "code",
   "execution_count": 19,
   "metadata": {},
   "outputs": [],
   "source": [
    "def tokenize(doc):\n",
    "    # norm은 정규화, stem은 근어로 표시하기를 나타냄\n",
    "    okt = Okt()\n",
    "    return ['/'.join(t) for t in okt.pos(doc, norm=True, stem=True)]"
   ]
  },
  {
   "cell_type": "code",
   "execution_count": 20,
   "metadata": {},
   "outputs": [],
   "source": [
    "def modeling(x_train, y_train):\n",
    "    model = models.Sequential()\n",
    "    model.add(layers.Dense(64, activation='tanh', input_shape=(6053,)))\n",
    "    model.add(layers.Dense(64, activation='tanh'))\n",
    "    model.add(layers.Dense(1, activation='sigmoid'))\n",
    "\n",
    "    model.compile(optimizer=optimizers.RMSprop(lr=0.001),\n",
    "                  loss=losses.sparse_categorical_crossentropy,\n",
    "                  metrics=[metrics.sparse_categorical_accuracy])\n",
    "    tb_hist = keras.callbacks.TensorBoard(log_dir='./graphs', histogram_freq=0, write_graph=True,\n",
    "                                          write_images=True, profile_batch = 100000000)\n",
    "    model.fit(x_train, y_train, epochs=25, batch_size=512, callbacks=[tb_hist])\n",
    "    return model"
   ]
  },
  {
   "cell_type": "code",
   "execution_count": 30,
   "metadata": {},
   "outputs": [],
   "source": [
    "def array_to_float(data):\n",
    "    x_train = np.asarray(data).astype('float64')\n",
    "    return x_train\n",
    "def array_to_int(data):\n",
    "    x_train = np.asarray(data).astype('int32')\n",
    "    return x_train"
   ]
  },
  {
   "cell_type": "code",
   "execution_count": 31,
   "metadata": {},
   "outputs": [],
   "source": [
    "def change_frequency(docs):\n",
    "    train_x = [term_frequency(d) for d, _ in docs]\n",
    "    train_y = [c for _, c in docs]\n",
    "    return train_x, train_y"
   ]
  },
  {
   "cell_type": "code",
   "execution_count": 32,
   "metadata": {},
   "outputs": [],
   "source": [
    "def term_frequency(doc):\n",
    "    return [doc.count(word) for word in selected_words]"
   ]
  },
  {
   "cell_type": "code",
   "execution_count": 33,
   "metadata": {},
   "outputs": [],
   "source": [
    "def make_selected_words(train_docs):\n",
    "    tokens = [t for d in train_docs for t in d[0]]\n",
    "    text = nltk.Text(tokens, name='NMSC')\n",
    "    selected_words = [f[0] for f in text.vocab().most_common(10000)]\n",
    "    return selected_words"
   ]
  },
  {
   "cell_type": "code",
   "execution_count": 34,
   "metadata": {},
   "outputs": [],
   "source": [
    "def read_and_tokenize():\n",
    "    if os.path.isfile('train_docs.json'):\n",
    "        with open('train_docs.json', encoding=\"utf-8\") as f:\n",
    "            train_docs = json.load(f)\n",
    "    else:\n",
    "        hangul = re.compile('[^ ㄱ-ㅣ가-힣]+')\n",
    "        train_docs = [(tokenize(hangul.sub(\"\", str(row[1]))), row[2]) for row in train_data]\n",
    "        # JSON 파일로 저장\n",
    "        with open('train_docs.json', 'w', encoding=\"utf-8\") as make_file:\n",
    "            json.dump(train_docs, make_file, ensure_ascii=False, indent=\"\\t\")\n",
    "    return train_docs"
   ]
  },
  {
   "cell_type": "code",
   "execution_count": 35,
   "metadata": {},
   "outputs": [],
   "source": [
    "train_docs = read_and_tokenize()"
   ]
  },
  {
   "cell_type": "code",
   "execution_count": 36,
   "metadata": {},
   "outputs": [],
   "source": [
    "selected_words = make_selected_words(train_docs)"
   ]
  },
  {
   "cell_type": "code",
   "execution_count": 37,
   "metadata": {},
   "outputs": [],
   "source": [
    "train_x, train_y = change_frequency(train_docs)"
   ]
  },
  {
   "cell_type": "code",
   "execution_count": 38,
   "metadata": {},
   "outputs": [
    {
     "name": "stdout",
     "output_type": "stream",
     "text": [
      "Train on 2592 samples\n",
      "Epoch 1/25\n",
      "2592/2592 [==============================] - 1s 252us/sample - loss: nan - sparse_categorical_accuracy: 0.0000e+00\n",
      "Epoch 2/25\n",
      "2592/2592 [==============================] - 0s 55us/sample - loss: nan - sparse_categorical_accuracy: 0.0000e+00\n",
      "Epoch 3/25\n",
      "2592/2592 [==============================] - 0s 54us/sample - loss: nan - sparse_categorical_accuracy: 0.0000e+00\n",
      "Epoch 4/25\n",
      "2592/2592 [==============================] - 0s 58us/sample - loss: nan - sparse_categorical_accuracy: 0.0000e+00\n",
      "Epoch 5/25\n",
      "2592/2592 [==============================] - 0s 52us/sample - loss: nan - sparse_categorical_accuracy: 0.0000e+00\n",
      "Epoch 6/25\n",
      "2592/2592 [==============================] - 0s 57us/sample - loss: nan - sparse_categorical_accuracy: 0.0000e+00\n",
      "Epoch 7/25\n",
      "2592/2592 [==============================] - 0s 49us/sample - loss: nan - sparse_categorical_accuracy: 0.0000e+00\n",
      "Epoch 8/25\n",
      "2592/2592 [==============================] - 0s 55us/sample - loss: nan - sparse_categorical_accuracy: 0.0000e+00\n",
      "Epoch 9/25\n",
      "2592/2592 [==============================] - 0s 50us/sample - loss: nan - sparse_categorical_accuracy: 0.0000e+00\n",
      "Epoch 10/25\n",
      "2592/2592 [==============================] - 0s 59us/sample - loss: nan - sparse_categorical_accuracy: 0.0000e+00\n",
      "Epoch 11/25\n",
      "2592/2592 [==============================] - 0s 58us/sample - loss: nan - sparse_categorical_accuracy: 0.0000e+00\n",
      "Epoch 12/25\n",
      "2592/2592 [==============================] - 0s 85us/sample - loss: nan - sparse_categorical_accuracy: 0.0000e+00\n",
      "Epoch 13/25\n",
      "2592/2592 [==============================] - 0s 58us/sample - loss: nan - sparse_categorical_accuracy: 0.0000e+00\n",
      "Epoch 14/25\n",
      "2592/2592 [==============================] - 0s 50us/sample - loss: nan - sparse_categorical_accuracy: 0.0000e+00\n",
      "Epoch 15/25\n",
      "2592/2592 [==============================] - 0s 56us/sample - loss: nan - sparse_categorical_accuracy: 0.0000e+00\n",
      "Epoch 16/25\n",
      "2592/2592 [==============================] - 0s 55us/sample - loss: nan - sparse_categorical_accuracy: 0.0000e+00\n",
      "Epoch 17/25\n",
      "2592/2592 [==============================] - 0s 58us/sample - loss: nan - sparse_categorical_accuracy: 0.0000e+00\n",
      "Epoch 18/25\n",
      "2592/2592 [==============================] - 0s 53us/sample - loss: nan - sparse_categorical_accuracy: 0.0000e+00\n",
      "Epoch 19/25\n",
      "2592/2592 [==============================] - 0s 55us/sample - loss: nan - sparse_categorical_accuracy: 0.0000e+00\n",
      "Epoch 20/25\n",
      "2592/2592 [==============================] - 0s 56us/sample - loss: nan - sparse_categorical_accuracy: 0.0000e+00\n",
      "Epoch 21/25\n",
      "2592/2592 [==============================] - 0s 51us/sample - loss: nan - sparse_categorical_accuracy: 0.0000e+00\n",
      "Epoch 22/25\n",
      "2592/2592 [==============================] - 0s 54us/sample - loss: nan - sparse_categorical_accuracy: 0.0000e+00\n",
      "Epoch 23/25\n",
      "2592/2592 [==============================] - 0s 54us/sample - loss: nan - sparse_categorical_accuracy: 0.0000e+00\n",
      "Epoch 24/25\n",
      "2592/2592 [==============================] - 0s 58us/sample - loss: nan - sparse_categorical_accuracy: 0.0000e+00\n",
      "Epoch 25/25\n",
      "2592/2592 [==============================] - 0s 85us/sample - loss: nan - sparse_categorical_accuracy: 0.0000e+00\n"
     ]
    }
   ],
   "source": [
    "model = modeling(array_to_float(train_x),array_to_int(train_y))"
   ]
  },
  {
   "cell_type": "code",
   "execution_count": null,
   "metadata": {},
   "outputs": [],
   "source": []
  },
  {
   "cell_type": "code",
   "execution_count": null,
   "metadata": {},
   "outputs": [],
   "source": []
  }
 ],
 "metadata": {
  "kernelspec": {
   "display_name": "Python 3",
   "language": "python",
   "name": "python3"
  },
  "language_info": {
   "codemirror_mode": {
    "name": "ipython",
    "version": 3
   },
   "file_extension": ".py",
   "mimetype": "text/x-python",
   "name": "python",
   "nbconvert_exporter": "python",
   "pygments_lexer": "ipython3",
   "version": "3.7.6"
  }
 },
 "nbformat": 4,
 "nbformat_minor": 2
}
